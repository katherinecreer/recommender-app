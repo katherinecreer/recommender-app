{
 "cells": [
  {
   "cell_type": "code",
   "execution_count": 1,
   "metadata": {},
   "outputs": [
    {
     "name": "stdout",
     "output_type": "stream",
     "text": [
      "Recommended Articles:\n",
      "- How people using Slack to organise their grocery lists is helping it grow\n",
      "- Accept questions from your audience when presenting in Google Slides\n",
      "- Elasticsearch Parent/Child Relationship for Document Security\n",
      "- Polly.ai raises $1.2 million to help companies poll their employees\n",
      "- Saiba como a Cisco está trabalhando com IoT e suas iniciativas para os empreendedores desse mercado - Startupi\n"
     ]
    }
   ],
   "source": [
    "import requests\n",
    "\n",
    "user_id = 5713241217519616260  \n",
    "url = f\"http://172.200.211.84:5000/recommend?user_id={user_id}\"\n",
    "\n",
    "\n",
    "response = requests.get(url)\n",
    "\n",
    "if response.status_code == 200:\n",
    "    recommendations = response.json()\n",
    "    print(\"Recommended Articles:\")\n",
    "    for article in recommendations['recommendations']:\n",
    "        print(\"-\", article)\n",
    "else:\n",
    "    print(\"Error:\", response.status_code, response.text)\n",
    "\n",
    "\n"
   ]
  },
  {
   "cell_type": "code",
   "execution_count": 2,
   "metadata": {},
   "outputs": [
    {
     "name": "stdout",
     "output_type": "stream",
     "text": [
      "Recommendations for '9213260650272029784':\n",
      "1. 1º Congresso Brasileiro de IoT - Embarcados\n",
      "2. Inatel lança seu Smart Campus, um laboratório vivo para demonstração de projetos na área de IoT - Startupi\n",
      "3. Governo define cronograma para plano nacional de Internet das Coisas\n",
      "4. Seguradores serão mentores de start-ups selecionadas pela aceleradora da Accenture | Sonho Seguro\n",
      "5. Como a Microsoft está trabalhando com o conceito de IoT - Startupi\n"
     ]
    }
   ],
   "source": [
    "import requests\n",
    "\n",
    "# Flask API URL (assuming it's running locally)\n",
    "url = 'http://172.200.211.84:5000/get_recommendations'\n",
    "\n",
    "# Define the article title you want to get recommendations for\n",
    "article_title = 9213260650272029784\n",
    "\n",
    "# Prepare the parameters for the GET request (article title)\n",
    "params = {'title': str(article_title)}\n",
    "\n",
    "# Send a GET request to the Flask API\n",
    "response = requests.get(url, params=params)\n",
    "\n",
    "# Check if the request was successful\n",
    "if response.status_code == 200:\n",
    "    data = response.json()\n",
    "    if 'recommendations' in data:\n",
    "        print(f\"Recommendations for '{article_title}':\")\n",
    "        for idx, rec in enumerate(data['recommendations'], start=1):\n",
    "            print(f\"{idx}. {rec}\")\n",
    "    else:\n",
    "        print(\"No recommendations found.\")\n",
    "else:\n",
    "    print(f\"Error: {response.status_code}, {response.text}\")\n"
   ]
  }
 ],
 "metadata": {
  "kernelspec": {
   "display_name": "Python 3",
   "language": "python",
   "name": "python3"
  },
  "language_info": {
   "codemirror_mode": {
    "name": "ipython",
    "version": 3
   },
   "file_extension": ".py",
   "mimetype": "text/x-python",
   "name": "python",
   "nbconvert_exporter": "python",
   "pygments_lexer": "ipython3",
   "version": "3.12.1"
  }
 },
 "nbformat": 4,
 "nbformat_minor": 2
}
